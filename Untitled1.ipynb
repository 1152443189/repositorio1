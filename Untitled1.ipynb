{
 "cells": [
  {
   "cell_type": "code",
   "execution_count": 7,
   "metadata": {},
   "outputs": [
    {
     "name": "stdout",
     "output_type": "stream",
     "text": [
      "Writing datos.csv\n"
     ]
    }
   ],
   "source": [
    "%%writefile datos.csv\n",
    "nombre;pais;telefono\n",
    "Mcdonald, Bertha V.;Tonga;16590927 3665\n",
    "Gay, Quynn Y.;Côte D'Ivoire (Ivory Coast);16230713 0019\n",
    "Hartman, Samson S.;Turkey;16260322 7477\n",
    "Mckay, Brennan Z.;Åland Islands;16941114 8308\n",
    "Daugherty, Ann H.;Venezuela;16180422 9555\n",
    "Justice, George F.;United Arab Emirates;16630629 5806\n",
    "Bailey, Jacqueline S.;Timor-Leste;16390230 5097\n",
    "Sears, Sawyer X.;Montserrat;16510427 2249\n",
    "Townsend, Stephen K.;Pitcairn Islands;16570616 8084\n",
    "Barrett, Howard L.;Uzbekistan;16000221 2991\n",
    "Kim, Xanthus P.;New Caledonia;16191009 2806\n",
    "Hurst, Coby M.;Montenegro;16740102 8910"
   ]
  },
  {
   "cell_type": "code",
   "execution_count": 18,
   "metadata": {},
   "outputs": [],
   "source": [
    "def csv2sql(infile, outfile):\n",
    "    x= open(infile).readlines()\n",
    "    x=[y[:-1] if y[-1] == '\\n' else y for y in x]\n",
    "    encabezado = x[0]\n",
    "    cuerpo = x[1:]\n",
    "\n",
    "    encabezado = '(' + encabezado.replace(';', ',') +')'\n",
    "    #listo encabezado\n",
    "\n",
    "    cuerpo = ['(\"' + y.replace(';', '\",\"') + '\")' for y in cuerpo]\n",
    "\n",
    "    cuerpo ='    '+ ',\\n    '.join(cuerpo) + ';'\n",
    "\n",
    "    with open(outfile, 'w') as f:\n",
    "        \n",
    "        f.write(' INSERT INTO tbl1 ' + encabezado + ' VALUES\\n')\n",
    "        f.write(cuerpo)\n",
    "    \n",
    "csv2sql(infile='datos.csv', outfile='punto1.txt')"
   ]
  },
  {
   "cell_type": "code",
   "execution_count": 23,
   "metadata": {},
   "outputs": [
    {
     "name": "stdout",
     "output_type": "stream",
     "text": [
      "Writing transformacion.csv\n"
     ]
    }
   ],
   "source": [
    "%%writefile transformacion.csv\n",
    "nombre;pais;telefono\n",
    "Mcdonald, Bertha V.;Tonga;16590927 3665\n",
    "Gay, Quynn Y.;Côte D'Ivoire (Ivory Coast);16230713 0019\n",
    "Hartman, Samson S.;Turkey;16260322 7477\n",
    "Mckay, Brennan Z.;Åland Islands;16941114 8308\n",
    "Daugherty, Ann H.;Venezuela;16180422 9555\n",
    "Justice, George F.;United Arab Emirates;16630629 5806\n",
    "Bailey, Jacqueline S.;Timor-Leste;16390230 5097\n",
    "Sears, Sawyer X.;Montserrat;16510427 2249\n",
    "Townsend, Stephen K.;Pitcairn Islands;16570616 8084\n",
    "Barrett, Howard L.;Uzbekistan;16000221 2991\n",
    "Kim, Xanthus P.;New Caledonia;16191009 2806\n",
    "Hurst, Coby M.;Montenegro;16740102 8910"
   ]
  },
  {
   "cell_type": "code",
   "execution_count": 94,
   "metadata": {},
   "outputs": [],
   "source": [
    "def csv2sql(infile, outfile):\n",
    "    x= open(infile).readlines()\n",
    "    x=[y[:-1] if y[-1] == '\\n' else y for y in x]\n",
    "    encabezado = x[0]\n",
    "    cuerpo = x[1:]\n",
    "\n",
    "    encabezado = '    <th>' + encabezado.replace(';', '</th>''\\n''    <th>') +'</th>''\\n''</tr>'\n",
    "    #listo encabezado\n",
    "    \n",
    "    cuerpo = ['<td>' + y.replace(';', '</td>''\\n''    <th>') + '</th>''\\n''</tr>''\\n''<tr>' for y in cuerpo]\n",
    "\n",
    "    cuerpo ='<tr>\\n    '+ ',\\n    '.join(cuerpo) + ';'\n",
    "    \n",
    "    with open(outfile, 'w') as f:\n",
    "\n",
    "        f.write(' <table cellpadding=\"1\" cellspacing=\"1\">\\n ' + '<tr>\\n' +  encabezado + '\\n')\n",
    "        f.write(cuerpo)\n",
    "    \n",
    "csv2sql(infile='transformacion.csv', outfile='punto2.txt')"
   ]
  },
  {
   "cell_type": "code",
   "execution_count": 95,
   "metadata": {},
   "outputs": [
    {
     "name": "stdout",
     "output_type": "stream",
     "text": [
      " <table cellpadding=\"1\" cellspacing=\"1\">\n",
      " <tr>\n",
      "    <th>nombre</th>\n",
      "    <th>pais</th>\n",
      "    <th>telefono</th>\n",
      "</tr>\n",
      "<tr>\n",
      "    <td>Mcdonald, Bertha V.</td>\n",
      "    <th>Tonga</td>\n",
      "    <th>16590927 3665</th>\n",
      "</tr>\n",
      "<tr>,\n",
      "    <td>Gay, Quynn Y.</td>\n",
      "    <th>CÃ´te D'Ivoire (Ivory Coast)</td>\n",
      "    <th>16230713 0019</th>\n",
      "</tr>\n",
      "<tr>,\n",
      "    <td>Hartman, Samson S.</td>\n",
      "    <th>Turkey</td>\n",
      "    <th>16260322 7477</th>\n",
      "</tr>\n",
      "<tr>,\n",
      "    <td>Mckay, Brennan Z.</td>\n",
      "    <th>Ã…land Islands</td>\n",
      "    <th>16941114 8308</th>\n",
      "</tr>\n",
      "<tr>,\n",
      "    <td>Daugherty, Ann H.</td>\n",
      "    <th>Venezuela</td>\n",
      "    <th>16180422 9555</th>\n",
      "</tr>\n",
      "<tr>,\n",
      "    <td>Justice, George F.</td>\n",
      "    <th>United Arab Emirates</td>\n",
      "    <th>16630629 5806</th>\n",
      "</tr>\n",
      "<tr>,\n",
      "    <td>Bailey, Jacqueline S.</td>\n",
      "    <th>Timor-Leste</td>\n",
      "    <th>16390230 5097</th>\n",
      "</tr>\n",
      "<tr>,\n",
      "    <td>Sears, Sawyer X.</td>\n",
      "    <th>Montserrat</td>\n",
      "    <th>16510427 2249</th>\n",
      "</tr>\n",
      "<tr>,\n",
      "    <td>Townsend, Stephen K.</td>\n",
      "    <th>Pitcairn Islands</td>\n",
      "    <th>16570616 8084</th>\n",
      "</tr>\n",
      "<tr>,\n",
      "    <td>Barrett, Howard L.</td>\n",
      "    <th>Uzbekistan</td>\n",
      "    <th>16000221 2991</th>\n",
      "</tr>\n",
      "<tr>,\n",
      "    <td>Kim, Xanthus P.</td>\n",
      "    <th>New Caledonia</td>\n",
      "    <th>16191009 2806</th>\n",
      "</tr>\n",
      "<tr>,\n",
      "    <td>Hurst, Coby M.</td>\n",
      "    <th>Montenegro</td>\n",
      "    <th>16740102 8910</th>\n",
      "</tr>\n",
      "<tr>;\n"
     ]
    }
   ],
   "source": [
    "!type punto2.txt"
   ]
  },
  {
   "cell_type": "code",
   "execution_count": null,
   "metadata": {},
   "outputs": [],
   "source": []
  }
 ],
 "metadata": {
  "kernelspec": {
   "display_name": "Python 3",
   "language": "python",
   "name": "python3"
  },
  "language_info": {
   "codemirror_mode": {
    "name": "ipython",
    "version": 3
   },
   "file_extension": ".py",
   "mimetype": "text/x-python",
   "name": "python",
   "nbconvert_exporter": "python",
   "pygments_lexer": "ipython3",
   "version": "3.6.5"
  }
 },
 "nbformat": 4,
 "nbformat_minor": 2
}
